{
 "cells": [
  {
   "cell_type": "code",
   "execution_count": 3,
   "metadata": {},
   "outputs": [],
   "source": [
    "from selenium import webdriver\n",
    "import time\n",
    "import csv\n",
    "from selenium.webdriver.common.by import By\n",
    "from selenium.webdriver.chrome.options import Options\n",
    "from selenium.common.exceptions import NoSuchElementException, TimeoutException\n",
    "from selenium.webdriver.chrome.service import Service as ChromeService\n",
    "from webdriver_manager.chrome import ChromeDriverManager\n",
    "from selenium.webdriver.support.ui import WebDriverWait\n",
    "from selenium.webdriver.support import expected_conditions as EC\n",
    "from selenium.webdriver.common.keys import Keys\n"
   ]
  },
  {
   "cell_type": "code",
   "execution_count": 6,
   "metadata": {},
   "outputs": [],
   "source": [
    "\n",
    "driver = webdriver.Chrome()\n"
   ]
  },
  {
   "cell_type": "code",
   "execution_count": 7,
   "metadata": {},
   "outputs": [],
   "source": [
    "url = \"https://twitter.com/coindesk\"\n",
    "driver.get(url)"
   ]
  },
  {
   "cell_type": "code",
   "execution_count": 24,
   "metadata": {},
   "outputs": [
    {
     "data": {
      "text/plain": [
       "'CoinDesk\\n@CoinDesk\\n·\\n3h\\nBinance founder Changpeng \"CZ\" Zhao has apologized for his \"poor decisions\" in a letter to the judge overseeing his sentencing scheduled for later this month. As many as 161 people have submitted letters of support for CZ. By \\n@amitoj\\n.\\nBinance Founder Changpeng Zhao Apologizes Ahead of Sentencing, 161 Others Send Letters of Support\\nFrom coindesk.com\\n44\\n69\\n167\\n28K'"
      ]
     },
     "execution_count": 24,
     "metadata": {},
     "output_type": "execute_result"
    }
   ],
   "source": [
    "text = a.text\n",
    "a.find_element(by=By.TAG_NAME, value=\"span\")\n",
    "a.text"
   ]
  },
  {
   "cell_type": "code",
   "execution_count": 23,
   "metadata": {},
   "outputs": [
    {
     "data": {
      "text/plain": [
       "<selenium.webdriver.remote.webelement.WebElement (session=\"ab11935247b2e3288c625788adc0420d\", element=\"f.858997A3F8A7D4C846AF81BD21C89CC3.d.3929B98E5897198D7A3331036FA246C5.e.11960\")>"
      ]
     },
     "execution_count": 23,
     "metadata": {},
     "output_type": "execute_result"
    }
   ],
   "source": [
    "a = driver.find_element(by=By.CSS_SELECTOR, value=\"#react-root > div > div > div.css-175oi2r.r-1f2l425.r-13qz1uu.r-417010.r-18u37iz > main > div > div > div > div.css-175oi2r.r-kemksi.r-1kqtdi0.r-13l2t4g.r-1ljd8xs.r-1phboty.r-16y2uox.r-184en5c.r-61z16t.r-11wrixw.r-1jgb5lz.r-13qz1uu.r-1ye8kvj > div > div:nth-child(3) > div > div > section > div > div > div:nth-child(4)\")\n",
    "a.find_element(by=By.TAG_NAME, value=\"img\")"
   ]
  },
  {
   "cell_type": "code",
   "execution_count": 17,
   "metadata": {},
   "outputs": [
    {
     "name": "stdout",
     "output_type": "stream",
     "text": [
      "https://pbs.twimg.com/profile_images/1430879040156667904/NlbJjd-l_bigger.png\n",
      "https://pbs.twimg.com/card_img/1783118761765097473/D3ZLLrgW?format=jpg&name=small\n"
     ]
    }
   ],
   "source": [
    "b = a.find_elements(by=By.TAG_NAME, value=\"img\")\n",
    "for i in b:\n",
    "    print(i.get_attribute('src'))"
   ]
  },
  {
   "cell_type": "code",
   "execution_count": 20,
   "metadata": {},
   "outputs": [
    {
     "name": "stdout",
     "output_type": "stream",
     "text": [
      "Profile Name: Pinned\n",
      "Username: CoinDesk\n",
      "Time Posted: ·\n",
      "Tweet Content: Apr 21 \n",
      "Link or Mention: What will this year bring? You'll have to join us next month to find out.\n",
      "Opinion Title: Secure your spot today: https://consensus2024.coindesk.com/register/?term=organic&utm_campaign=CoinDesk&utm_content=marketing%2Ctimeline%2CC24&utm_medium=social&utm_source=twitter…\n",
      "Source: Watch again\n",
      "Reactions:\n",
      "  Replies: 0:00\n",
      "  Retweets: 1.1K\n",
      "  Likes: 314\n",
      "  Shares: 319\n"
     ]
    }
   ],
   "source": [
    "# Split the text into lines\n",
    "lines = text.split('\\n')\n",
    "\n",
    "# Creating a structured dictionary\n",
    "tweet_info = {\n",
    "    \"Profile Name\": lines[0],\n",
    "    \"Username\": lines[1],\n",
    "    \"Time Posted\": lines[3],\n",
    "    \"Tweet Content\": lines[4] + \" \" + lines[6],\n",
    "    \"Link or Mention\": lines[7],\n",
    "    \"Opinion Title\": lines[9],\n",
    "    \"Source\": lines[10],\n",
    "    \"Reactions\": {\n",
    "        \"Replies\": lines[11],\n",
    "        \"Retweets\": lines[12],\n",
    "        \"Likes\": lines[13],\n",
    "        \"Shares\": lines[14]\n",
    "    }\n",
    "}\n",
    "\n",
    "# Printing the structured information\n",
    "print(\"Profile Name:\", tweet_info[\"Profile Name\"])\n",
    "print(\"Username:\", tweet_info[\"Username\"])\n",
    "print(\"Time Posted:\", tweet_info[\"Time Posted\"])\n",
    "print(\"Tweet Content:\", tweet_info[\"Tweet Content\"])\n",
    "print(\"Link or Mention:\", tweet_info[\"Link or Mention\"])\n",
    "print(\"Opinion Title:\", tweet_info[\"Opinion Title\"])\n",
    "print(\"Source:\", tweet_info[\"Source\"])\n",
    "print(\"Reactions:\")\n",
    "print(\"  Replies:\", tweet_info[\"Reactions\"][\"Replies\"])\n",
    "print(\"  Retweets:\", tweet_info[\"Reactions\"][\"Retweets\"])\n",
    "print(\"  Likes:\", tweet_info[\"Reactions\"][\"Likes\"])\n",
    "print(\"  Shares:\", tweet_info[\"Reactions\"][\"Shares\"])"
   ]
  },
  {
   "cell_type": "code",
   "execution_count": null,
   "metadata": {},
   "outputs": [],
   "source": [
    "from selenium import webdriver\n",
    "import time\n",
    "import csv\n",
    "from selenium.webdriver.common.by import By\n",
    "from selenium.webdriver.chrome.options import Options\n",
    "from selenium.common.exceptions import NoSuchElementException, TimeoutException\n",
    "from selenium.webdriver.chrome.service import Service as ChromeService\n",
    "from webdriver_manager.chrome import ChromeDriverManager\n",
    "from selenium.webdriver.support.ui import WebDriverWait\n",
    "from selenium.webdriver.support import expected_conditions as EC\n",
    "from selenium.webdriver.common.keys import Keys\n"
   ]
  },
  {
   "cell_type": "code",
   "execution_count": null,
   "metadata": {},
   "outputs": [],
   "source": [
    "\n",
    "driver = webdriver.Chrome()\n"
   ]
  },
  {
   "cell_type": "code",
   "execution_count": null,
   "metadata": {},
   "outputs": [],
   "source": [
    "url = \"https://twitter.com/coindesk\"\n",
    "driver.get(url)"
   ]
  },
  {
   "cell_type": "code",
   "execution_count": 25,
   "metadata": {},
   "outputs": [
    {
     "data": {
      "text/plain": [
       "<selenium.webdriver.remote.webelement.WebElement (session=\"ab11935247b2e3288c625788adc0420d\", element=\"f.858997A3F8A7D4C846AF81BD21C89CC3.d.3929B98E5897198D7A3331036FA246C5.e.11960\")>"
      ]
     },
     "execution_count": 25,
     "metadata": {},
     "output_type": "execute_result"
    }
   ],
   "source": [
    "a = driver.find_element(by=By.CSS_SELECTOR, value=\"#react-root > div > div > div.css-175oi2r.r-1f2l425.r-13qz1uu.r-417010.r-18u37iz > main > div > div > div > div.css-175oi2r.r-kemksi.r-1kqtdi0.r-13l2t4g.r-1ljd8xs.r-1phboty.r-16y2uox.r-184en5c.r-61z16t.r-11wrixw.r-1jgb5lz.r-13qz1uu.r-1ye8kvj > div > div:nth-child(3) > div > div > section > div > div > div:nth-child(4)\")\n",
    "a.find_element(by=By.TAG_NAME, value=\"img\")"
   ]
  },
  {
   "cell_type": "code",
   "execution_count": null,
   "metadata": {},
   "outputs": [],
   "source": [
    "item  = f\"#react-root > div > div > div.css-175oi2r.r-1f2l425.r-13qz1uu.r-417010.r-18u37iz > main > div > div > div > div.css-175oi2r.r-kemksi.r-1kqtdi0.r-13l2t4g.r-1ljd8xs.r-1phboty.r-16y2uox.r-184en5c.r-61z16t.r-11wrixw.r-1jgb5lz.r-13qz1uu.r-1ye8kvj > div > div:nth-child(3) > div > div > section > div > div > div:nth-child({tweet})\""
   ]
  }
 ],
 "metadata": {
  "kernelspec": {
   "display_name": "Python 3",
   "language": "python",
   "name": "python3"
  },
  "language_info": {
   "codemirror_mode": {
    "name": "ipython",
    "version": 3
   },
   "file_extension": ".py",
   "mimetype": "text/x-python",
   "name": "python",
   "nbconvert_exporter": "python",
   "pygments_lexer": "ipython3",
   "version": "3.12.2"
  }
 },
 "nbformat": 4,
 "nbformat_minor": 2
}
